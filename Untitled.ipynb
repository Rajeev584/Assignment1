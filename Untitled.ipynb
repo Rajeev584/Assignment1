{
 "cells": [
  {
   "cell_type": "code",
   "execution_count": null,
   "id": "58c656aa-1841-4989-bf28-39bcaece8a83",
   "metadata": {},
   "outputs": [],
   "source": [
    "Q1: GUIDO VAN ROSSUM\n",
    "Q2:OBJECT ORIENTED,STRUCTURED AND FUNCTIONAL PROGRAMMING\n",
    "Q3:YES\n",
    "Q4: .py\n",
    "q5:INTERPRETED\n",
    "Q6: def vowel(L):\n",
    "    flag=False\n",
    "    if 'a' in L or 'e' in L or 'i' in L or 'o' in L or 'u' in L:\n",
    "        flag=True\n",
    "    if flag:\n",
    "        print('vowel is present in L')\n",
    "    else:\n",
    "        print('vowel is not present')\n",
    "Q7: #\n",
    "Q8: import sys\n",
    "   print(sys.version)\n",
    "Q9: 'lambda'\n",
    "Q10:preferred installer program\n",
    "Q11: bool(), bin(), complex(), list(), pow(), len(), open()\n",
    "Q12: 79\n",
    "Q13: COMPUTER GRAPHICS, FINANCE AND TRADING, WEB DEVELOPMENT, DATA SCIENCE\n",
    "Q14: MEMORY MANAGEMENT IN PYTHON IS DONE BY PYTHON MEMORY MANAGER\n",
    "Q15: you can install python and set the path variables in windows by following steps:\n",
    "    1: type 'python' in the windows search bar\n",
    "    2:right click on the \n",
    "\n"
   ]
  },
  {
   "cell_type": "code",
   "execution_count": 4,
   "id": "9eb5178f-c708-47f8-a3aa-3f3ae59af1e4",
   "metadata": {},
   "outputs": [
    {
     "name": "stdout",
     "output_type": "stream",
     "text": [
      "3.10.6 | packaged by conda-forge | (main, Aug 22 2022, 20:35:26) [GCC 10.4.0]\n"
     ]
    }
   ],
   "source": [
    "import sys\n",
    "print(sys.version)"
   ]
  },
  {
   "cell_type": "code",
   "execution_count": null,
   "id": "6c56632a-5b0d-4597-a530-fc76a6f3f9bb",
   "metadata": {},
   "outputs": [],
   "source": []
  },
  {
   "cell_type": "code",
   "execution_count": null,
   "id": "086e90bc-1bfe-42e7-ab00-411a113cdb5b",
   "metadata": {},
   "outputs": [],
   "source": []
  }
 ],
 "metadata": {
  "kernelspec": {
   "display_name": "Python 3 (ipykernel)",
   "language": "python",
   "name": "python3"
  },
  "language_info": {
   "codemirror_mode": {
    "name": "ipython",
    "version": 3
   },
   "file_extension": ".py",
   "mimetype": "text/x-python",
   "name": "python",
   "nbconvert_exporter": "python",
   "pygments_lexer": "ipython3",
   "version": "3.10.6"
  }
 },
 "nbformat": 4,
 "nbformat_minor": 5
}

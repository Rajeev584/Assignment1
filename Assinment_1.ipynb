{
 "cells": [
  {
   "cell_type": "code",
   "execution_count": null,
   "id": "58c656aa-1841-4989-bf28-39bcaece8a83",
   "metadata": {},
   "outputs": [],
   "source": [
    "Q1: GUIDO VAN ROSSUM\n",
    "\n",
    "Q2:OBJECT ORIENTED,STRUCTURED AND FUNCTIONAL PROGRAMMING\n",
    "\n",
    "Q3:YES\n",
    "\n",
    "Q4: .py\n",
    "\n",
    "q5:INTERPRETED\n",
    "\n",
    "Q6: def vowel(L):\n",
    "    flag=False\n",
    "    if 'a' in L or 'e' in L or 'i' in L or 'o' in L or 'u' in L:\n",
    "        flag=True\n",
    "    if flag:\n",
    "        print('vowel is present in L')\n",
    "    else:\n",
    "        print('vowel is not present')\n",
    "        \n",
    "Q7: #\n",
    "    \n",
    "Q8: import sys\n",
    "   print(sys.version)\n",
    "    \n",
    "Q9: 'lambda'\n",
    "\n",
    "Q10:preferred installer program\n",
    "\n",
    "Q11: bool(), bin(), complex(), list(), pow(), len(), open()\n",
    "\n",
    "Q12: 79\n",
    "\n",
    "Q13: COMPUTER GRAPHICS, FINANCE AND TRADING, WEB DEVELOPMENT, DATA SCIENCE\n",
    "\n",
    "Q14: MEMORY MANAGEMENT IN PYTHON IS DONE BY PYTHON MEMORY MANAGER\n",
    "\n",
    "Q15: you can install python and set the path variables in windows by following steps:\n",
    "    1: type 'python' in the windows search bar\n",
    "    2:right click on the python app, and select open file option \n",
    "    3: right click again on the python shortcut , and select 'open file location'.\n",
    "    \n",
    "Q16: YES\n",
    "\n"
   ]
  }
 ],
 "metadata": {
  "kernelspec": {
   "display_name": "Python 3 (ipykernel)",
   "language": "python",
   "name": "python3"
  },
  "language_info": {
   "codemirror_mode": {
    "name": "ipython",
    "version": 3
   },
   "file_extension": ".py",
   "mimetype": "text/x-python",
   "name": "python",
   "nbconvert_exporter": "python",
   "pygments_lexer": "ipython3",
   "version": "3.10.6"
  }
 },
 "nbformat": 4,
 "nbformat_minor": 5
}
